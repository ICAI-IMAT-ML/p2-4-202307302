{
 "cells": [
  {
   "cell_type": "code",
   "execution_count": null,
   "metadata": {},
   "outputs": [
    {
     "name": "stdout",
     "output_type": "stream",
     "text": [
      "[1 2 3]\n",
      "[[1]\n",
      " [2]\n",
      " [3]]\n"
     ]
    }
   ],
   "source": [
    "\n",
    "\n",
    "        # Separate the intercept and the coefficients\n",
    "        self.intercept = self.coefficients[0]\n",
    "        self.coefficients = self.coefficients[1:]\n",
    "\n",
    "        n = len(y)\n",
    "        self.coefficients = np.random.rand(X.shape[1] - 1) * 0.01  # Small random numbers\n",
    "        self.intercept = np.random.rand() * 0.01\n",
    "\n",
    "        # Implement gradient descent\n",
    "        for epoch in range(iterations):\n",
    "            predictions = self.predict(X[:, 1:])  # Exclude bias term for prediction\n",
    "            error = predictions - y\n",
    "\n",
    "            # Calculate the gradient values and update the parameters\n",
    "            gradient_intercept = (2 / n) * np.sum(error)\n",
    "            gradient_coefficients = (2 / n) * np.dot(X[:, 1:].T, error)\n",
    "\n",
    "            self.intercept -= learning_rate * gradient_intercept\n",
    "            self.coefficients -= learning_rate * gradient_coefficients\n",
    "\n",
    "            # Calculate and print the loss every 100 epochs\n",
    "            if epoch % 100 == 0:\n",
    "                mse = np.mean(error ** 2)\n",
    "                print(f\"Epoch {epoch}: MSE = {mse}\")"
   ]
  }
 ],
 "metadata": {
  "kernelspec": {
   "display_name": "Python 3",
   "language": "python",
   "name": "python3"
  },
  "language_info": {
   "codemirror_mode": {
    "name": "ipython",
    "version": 3
   },
   "file_extension": ".py",
   "mimetype": "text/x-python",
   "name": "python",
   "nbconvert_exporter": "python",
   "pygments_lexer": "ipython3",
   "version": "3.11.9"
  }
 },
 "nbformat": 4,
 "nbformat_minor": 2
}
